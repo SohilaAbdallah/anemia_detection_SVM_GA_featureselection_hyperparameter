{
  "nbformat": 4,
  "nbformat_minor": 0,
  "metadata": {
    "colab": {
      "provenance": [],
      "collapsed_sections": [
        "CrAx-hCPvtA9",
        "-vrzVTpLlzmi",
        "vnFV-GdVsYct",
        "38-hN-rdubIW",
        "QpT44ymPxNfu",
        "6HHuniBTxUia",
        "OYQ8D-f5nrxG",
        "zkuRKaHuklrN",
        "fXBYRcUCwM0i"
      ]
    },
    "kernelspec": {
      "name": "python3",
      "display_name": "Python 3"
    },
    "language_info": {
      "name": "python"
    }
  },
  "cells": [
    {
      "cell_type": "markdown",
      "source": [
        "# **Import library**"
      ],
      "metadata": {
        "id": "CrAx-hCPvtA9"
      }
    },
    {
      "cell_type": "code",
      "source": [
        "pip install tpot"
      ],
      "metadata": {
        "colab": {
          "base_uri": "https://localhost:8080/"
        },
        "id": "7P-rGJLEqOmr",
        "outputId": "fa50f5e0-3539-4601-e025-f5a1f22b87d1"
      },
      "execution_count": null,
      "outputs": [
        {
          "output_type": "stream",
          "name": "stdout",
          "text": [
            "Collecting tpot\n",
            "  Downloading TPOT-0.12.2-py3-none-any.whl (87 kB)\n",
            "\u001b[2K     \u001b[90m━━━━━━━━━━━━━━━━━━━━━━━━━━━━━━━━━━━━━━━━\u001b[0m \u001b[32m87.4/87.4 kB\u001b[0m \u001b[31m1.4 MB/s\u001b[0m eta \u001b[36m0:00:00\u001b[0m\n",
            "\u001b[?25hRequirement already satisfied: numpy>=1.16.3 in /usr/local/lib/python3.10/dist-packages (from tpot) (1.25.2)\n",
            "Requirement already satisfied: scipy>=1.3.1 in /usr/local/lib/python3.10/dist-packages (from tpot) (1.11.4)\n",
            "Collecting scikit-learn>=1.4.1 (from tpot)\n",
            "  Downloading scikit_learn-1.4.2-cp310-cp310-manylinux_2_17_x86_64.manylinux2014_x86_64.whl (12.1 MB)\n",
            "\u001b[2K     \u001b[90m━━━━━━━━━━━━━━━━━━━━━━━━━━━━━━━━━━━━━━━━\u001b[0m \u001b[32m12.1/12.1 MB\u001b[0m \u001b[31m56.1 MB/s\u001b[0m eta \u001b[36m0:00:00\u001b[0m\n",
            "\u001b[?25hCollecting deap>=1.2 (from tpot)\n",
            "  Downloading deap-1.4.1-cp310-cp310-manylinux_2_5_x86_64.manylinux1_x86_64.manylinux_2_17_x86_64.manylinux2014_x86_64.whl (135 kB)\n",
            "\u001b[2K     \u001b[90m━━━━━━━━━━━━━━━━━━━━━━━━━━━━━━━━━━━━━━━━\u001b[0m \u001b[32m135.4/135.4 kB\u001b[0m \u001b[31m15.7 MB/s\u001b[0m eta \u001b[36m0:00:00\u001b[0m\n",
            "\u001b[?25hCollecting update-checker>=0.16 (from tpot)\n",
            "  Downloading update_checker-0.18.0-py3-none-any.whl (7.0 kB)\n",
            "Requirement already satisfied: tqdm>=4.36.1 in /usr/local/lib/python3.10/dist-packages (from tpot) (4.66.4)\n",
            "Collecting stopit>=1.1.1 (from tpot)\n",
            "  Downloading stopit-1.1.2.tar.gz (18 kB)\n",
            "  Preparing metadata (setup.py) ... \u001b[?25l\u001b[?25hdone\n",
            "Requirement already satisfied: pandas>=0.24.2 in /usr/local/lib/python3.10/dist-packages (from tpot) (2.0.3)\n",
            "Requirement already satisfied: joblib>=0.13.2 in /usr/local/lib/python3.10/dist-packages (from tpot) (1.4.2)\n",
            "Requirement already satisfied: xgboost>=1.1.0 in /usr/local/lib/python3.10/dist-packages (from tpot) (2.0.3)\n",
            "Requirement already satisfied: python-dateutil>=2.8.2 in /usr/local/lib/python3.10/dist-packages (from pandas>=0.24.2->tpot) (2.8.2)\n",
            "Requirement already satisfied: pytz>=2020.1 in /usr/local/lib/python3.10/dist-packages (from pandas>=0.24.2->tpot) (2023.4)\n",
            "Requirement already satisfied: tzdata>=2022.1 in /usr/local/lib/python3.10/dist-packages (from pandas>=0.24.2->tpot) (2024.1)\n",
            "Requirement already satisfied: threadpoolctl>=2.0.0 in /usr/local/lib/python3.10/dist-packages (from scikit-learn>=1.4.1->tpot) (3.5.0)\n",
            "Requirement already satisfied: requests>=2.3.0 in /usr/local/lib/python3.10/dist-packages (from update-checker>=0.16->tpot) (2.31.0)\n",
            "Requirement already satisfied: six>=1.5 in /usr/local/lib/python3.10/dist-packages (from python-dateutil>=2.8.2->pandas>=0.24.2->tpot) (1.16.0)\n",
            "Requirement already satisfied: charset-normalizer<4,>=2 in /usr/local/lib/python3.10/dist-packages (from requests>=2.3.0->update-checker>=0.16->tpot) (3.3.2)\n",
            "Requirement already satisfied: idna<4,>=2.5 in /usr/local/lib/python3.10/dist-packages (from requests>=2.3.0->update-checker>=0.16->tpot) (3.7)\n",
            "Requirement already satisfied: urllib3<3,>=1.21.1 in /usr/local/lib/python3.10/dist-packages (from requests>=2.3.0->update-checker>=0.16->tpot) (2.0.7)\n",
            "Requirement already satisfied: certifi>=2017.4.17 in /usr/local/lib/python3.10/dist-packages (from requests>=2.3.0->update-checker>=0.16->tpot) (2024.2.2)\n",
            "Building wheels for collected packages: stopit\n",
            "  Building wheel for stopit (setup.py) ... \u001b[?25l\u001b[?25hdone\n",
            "  Created wheel for stopit: filename=stopit-1.1.2-py3-none-any.whl size=11938 sha256=d1a46f8cb335ab74640226936f5dcf4bc03c05dae32402a2475bdce6dc25ab9e\n",
            "  Stored in directory: /root/.cache/pip/wheels/af/f9/87/bf5b3d565c2a007b4dae9d8142dccc85a9f164e517062dd519\n",
            "Successfully built stopit\n",
            "Installing collected packages: stopit, deap, update-checker, scikit-learn, tpot\n",
            "  Attempting uninstall: scikit-learn\n",
            "    Found existing installation: scikit-learn 1.2.2\n",
            "    Uninstalling scikit-learn-1.2.2:\n",
            "      Successfully uninstalled scikit-learn-1.2.2\n",
            "Successfully installed deap-1.4.1 scikit-learn-1.4.2 stopit-1.1.2 tpot-0.12.2 update-checker-0.18.0\n"
          ]
        }
      ]
    },
    {
      "cell_type": "code",
      "execution_count": null,
      "metadata": {
        "id": "LOi418w6daEh"
      },
      "outputs": [],
      "source": [
        "import random\n",
        "import pandas as pd\n",
        "import numpy as np\n",
        "\n",
        "import tensorflow as tf\n",
        "\n",
        "from deap import base, creator, tools, algorithms\n",
        "from sklearn.svm import SVC\n",
        "from sklearn.model_selection import train_test_split,cross_val_score\n",
        "from sklearn.metrics import accuracy_score, precision_score, recall_score, f1_score, confusion_matrix\n",
        "\n",
        "import matplotlib.pyplot as plt"
      ]
    },
    {
      "cell_type": "markdown",
      "source": [
        "# **Upload and Read Dataset**"
      ],
      "metadata": {
        "id": "-vrzVTpLlzmi"
      }
    },
    {
      "cell_type": "code",
      "source": [
        "dataset = pd.read_csv(\"/content/SKILICARSLAN_Anemia_DataSet.csv\")\n",
        "# dataset = pd.read_csv(\"/content/sample_data/SKILICARSLAN_Anemia_DataSet.csv\")"
      ],
      "metadata": {
        "id": "Zu3L5Cr1dbtZ"
      },
      "execution_count": null,
      "outputs": []
    },
    {
      "cell_type": "code",
      "source": [
        "from google.colab import drive\n",
        "drive.mount('/content/drive')"
      ],
      "metadata": {
        "id": "gQSPGKt8rkT5"
      },
      "execution_count": null,
      "outputs": []
    },
    {
      "cell_type": "markdown",
      "source": [
        "# **Preprocessing**"
      ],
      "metadata": {
        "id": "vnFV-GdVsYct"
      }
    },
    {
      "cell_type": "code",
      "source": [
        "dataset.head()"
      ],
      "metadata": {
        "colab": {
          "base_uri": "https://localhost:8080/",
          "height": 255
        },
        "id": "IcreuefxtxQf",
        "outputId": "e1750de8-cad7-4ae1-ce0d-fbf83b4da720"
      },
      "execution_count": null,
      "outputs": [
        {
          "output_type": "execute_result",
          "data": {
            "text/plain": [
              "   GENDER    WBC   NE#   LY#   MO#   EO#   BA#   RBC   HGB   HCT  ...   SDTSD  \\\n",
              "0       1  10.63  6.31  2.79  0.91  0.56  0.06  4.31  12.7  37.6  ...  248.90   \n",
              "1       1   5.08  2.50  1.87  0.43  0.26  0.02  4.34  12.8  36.9  ...  348.48   \n",
              "2       1  13.68  9.40  2.69  1.55  0.03  0.01  3.18   9.4  27.5  ...  357.27   \n",
              "3       1   5.60  3.94  0.83  0.54  0.26  0.03  3.35  10.5  31.4  ...  360.60   \n",
              "4       1   3.57  2.03  1.25  0.10  0.18  0.01  1.31   5.1  14.3  ...  223.28   \n",
              "\n",
              "         TSD  FERRITTE  FOLATE    B12  All_Class  HGB_Anemia_Class  \\\n",
              "0  40.176778    194.00    5.06  178.2          4                 0   \n",
              "1  33.482553     57.37    9.88  197.7          4                 0   \n",
              "2  20.144429    114.20    8.37  143.0          4                 0   \n",
              "3  27.731559    214.20    6.39  139.9          4                 0   \n",
              "4  78.860623    303.40    4.30   50.0          4                 0   \n",
              "\n",
              "   Iron_anemia_Class  Folate_anemia_class  B12_Anemia_class  \n",
              "0                  0                    0                 1  \n",
              "1                  0                    0                 1  \n",
              "2                  0                    0                 1  \n",
              "3                  0                    0                 1  \n",
              "4                  0                    0                 1  \n",
              "\n",
              "[5 rows x 29 columns]"
            ],
            "text/html": [
              "\n",
              "  <div id=\"df-a1d049f6-f9e3-45f2-808b-c0cadfb18f79\" class=\"colab-df-container\">\n",
              "    <div>\n",
              "<style scoped>\n",
              "    .dataframe tbody tr th:only-of-type {\n",
              "        vertical-align: middle;\n",
              "    }\n",
              "\n",
              "    .dataframe tbody tr th {\n",
              "        vertical-align: top;\n",
              "    }\n",
              "\n",
              "    .dataframe thead th {\n",
              "        text-align: right;\n",
              "    }\n",
              "</style>\n",
              "<table border=\"1\" class=\"dataframe\">\n",
              "  <thead>\n",
              "    <tr style=\"text-align: right;\">\n",
              "      <th></th>\n",
              "      <th>GENDER</th>\n",
              "      <th>WBC</th>\n",
              "      <th>NE#</th>\n",
              "      <th>LY#</th>\n",
              "      <th>MO#</th>\n",
              "      <th>EO#</th>\n",
              "      <th>BA#</th>\n",
              "      <th>RBC</th>\n",
              "      <th>HGB</th>\n",
              "      <th>HCT</th>\n",
              "      <th>...</th>\n",
              "      <th>SDTSD</th>\n",
              "      <th>TSD</th>\n",
              "      <th>FERRITTE</th>\n",
              "      <th>FOLATE</th>\n",
              "      <th>B12</th>\n",
              "      <th>All_Class</th>\n",
              "      <th>HGB_Anemia_Class</th>\n",
              "      <th>Iron_anemia_Class</th>\n",
              "      <th>Folate_anemia_class</th>\n",
              "      <th>B12_Anemia_class</th>\n",
              "    </tr>\n",
              "  </thead>\n",
              "  <tbody>\n",
              "    <tr>\n",
              "      <th>0</th>\n",
              "      <td>1</td>\n",
              "      <td>10.63</td>\n",
              "      <td>6.31</td>\n",
              "      <td>2.79</td>\n",
              "      <td>0.91</td>\n",
              "      <td>0.56</td>\n",
              "      <td>0.06</td>\n",
              "      <td>4.31</td>\n",
              "      <td>12.7</td>\n",
              "      <td>37.6</td>\n",
              "      <td>...</td>\n",
              "      <td>248.90</td>\n",
              "      <td>40.176778</td>\n",
              "      <td>194.00</td>\n",
              "      <td>5.06</td>\n",
              "      <td>178.2</td>\n",
              "      <td>4</td>\n",
              "      <td>0</td>\n",
              "      <td>0</td>\n",
              "      <td>0</td>\n",
              "      <td>1</td>\n",
              "    </tr>\n",
              "    <tr>\n",
              "      <th>1</th>\n",
              "      <td>1</td>\n",
              "      <td>5.08</td>\n",
              "      <td>2.50</td>\n",
              "      <td>1.87</td>\n",
              "      <td>0.43</td>\n",
              "      <td>0.26</td>\n",
              "      <td>0.02</td>\n",
              "      <td>4.34</td>\n",
              "      <td>12.8</td>\n",
              "      <td>36.9</td>\n",
              "      <td>...</td>\n",
              "      <td>348.48</td>\n",
              "      <td>33.482553</td>\n",
              "      <td>57.37</td>\n",
              "      <td>9.88</td>\n",
              "      <td>197.7</td>\n",
              "      <td>4</td>\n",
              "      <td>0</td>\n",
              "      <td>0</td>\n",
              "      <td>0</td>\n",
              "      <td>1</td>\n",
              "    </tr>\n",
              "    <tr>\n",
              "      <th>2</th>\n",
              "      <td>1</td>\n",
              "      <td>13.68</td>\n",
              "      <td>9.40</td>\n",
              "      <td>2.69</td>\n",
              "      <td>1.55</td>\n",
              "      <td>0.03</td>\n",
              "      <td>0.01</td>\n",
              "      <td>3.18</td>\n",
              "      <td>9.4</td>\n",
              "      <td>27.5</td>\n",
              "      <td>...</td>\n",
              "      <td>357.27</td>\n",
              "      <td>20.144429</td>\n",
              "      <td>114.20</td>\n",
              "      <td>8.37</td>\n",
              "      <td>143.0</td>\n",
              "      <td>4</td>\n",
              "      <td>0</td>\n",
              "      <td>0</td>\n",
              "      <td>0</td>\n",
              "      <td>1</td>\n",
              "    </tr>\n",
              "    <tr>\n",
              "      <th>3</th>\n",
              "      <td>1</td>\n",
              "      <td>5.60</td>\n",
              "      <td>3.94</td>\n",
              "      <td>0.83</td>\n",
              "      <td>0.54</td>\n",
              "      <td>0.26</td>\n",
              "      <td>0.03</td>\n",
              "      <td>3.35</td>\n",
              "      <td>10.5</td>\n",
              "      <td>31.4</td>\n",
              "      <td>...</td>\n",
              "      <td>360.60</td>\n",
              "      <td>27.731559</td>\n",
              "      <td>214.20</td>\n",
              "      <td>6.39</td>\n",
              "      <td>139.9</td>\n",
              "      <td>4</td>\n",
              "      <td>0</td>\n",
              "      <td>0</td>\n",
              "      <td>0</td>\n",
              "      <td>1</td>\n",
              "    </tr>\n",
              "    <tr>\n",
              "      <th>4</th>\n",
              "      <td>1</td>\n",
              "      <td>3.57</td>\n",
              "      <td>2.03</td>\n",
              "      <td>1.25</td>\n",
              "      <td>0.10</td>\n",
              "      <td>0.18</td>\n",
              "      <td>0.01</td>\n",
              "      <td>1.31</td>\n",
              "      <td>5.1</td>\n",
              "      <td>14.3</td>\n",
              "      <td>...</td>\n",
              "      <td>223.28</td>\n",
              "      <td>78.860623</td>\n",
              "      <td>303.40</td>\n",
              "      <td>4.30</td>\n",
              "      <td>50.0</td>\n",
              "      <td>4</td>\n",
              "      <td>0</td>\n",
              "      <td>0</td>\n",
              "      <td>0</td>\n",
              "      <td>1</td>\n",
              "    </tr>\n",
              "  </tbody>\n",
              "</table>\n",
              "<p>5 rows × 29 columns</p>\n",
              "</div>\n",
              "    <div class=\"colab-df-buttons\">\n",
              "\n",
              "  <div class=\"colab-df-container\">\n",
              "    <button class=\"colab-df-convert\" onclick=\"convertToInteractive('df-a1d049f6-f9e3-45f2-808b-c0cadfb18f79')\"\n",
              "            title=\"Convert this dataframe to an interactive table.\"\n",
              "            style=\"display:none;\">\n",
              "\n",
              "  <svg xmlns=\"http://www.w3.org/2000/svg\" height=\"24px\" viewBox=\"0 -960 960 960\">\n",
              "    <path d=\"M120-120v-720h720v720H120Zm60-500h600v-160H180v160Zm220 220h160v-160H400v160Zm0 220h160v-160H400v160ZM180-400h160v-160H180v160Zm440 0h160v-160H620v160ZM180-180h160v-160H180v160Zm440 0h160v-160H620v160Z\"/>\n",
              "  </svg>\n",
              "    </button>\n",
              "\n",
              "  <style>\n",
              "    .colab-df-container {\n",
              "      display:flex;\n",
              "      gap: 12px;\n",
              "    }\n",
              "\n",
              "    .colab-df-convert {\n",
              "      background-color: #E8F0FE;\n",
              "      border: none;\n",
              "      border-radius: 50%;\n",
              "      cursor: pointer;\n",
              "      display: none;\n",
              "      fill: #1967D2;\n",
              "      height: 32px;\n",
              "      padding: 0 0 0 0;\n",
              "      width: 32px;\n",
              "    }\n",
              "\n",
              "    .colab-df-convert:hover {\n",
              "      background-color: #E2EBFA;\n",
              "      box-shadow: 0px 1px 2px rgba(60, 64, 67, 0.3), 0px 1px 3px 1px rgba(60, 64, 67, 0.15);\n",
              "      fill: #174EA6;\n",
              "    }\n",
              "\n",
              "    .colab-df-buttons div {\n",
              "      margin-bottom: 4px;\n",
              "    }\n",
              "\n",
              "    [theme=dark] .colab-df-convert {\n",
              "      background-color: #3B4455;\n",
              "      fill: #D2E3FC;\n",
              "    }\n",
              "\n",
              "    [theme=dark] .colab-df-convert:hover {\n",
              "      background-color: #434B5C;\n",
              "      box-shadow: 0px 1px 3px 1px rgba(0, 0, 0, 0.15);\n",
              "      filter: drop-shadow(0px 1px 2px rgba(0, 0, 0, 0.3));\n",
              "      fill: #FFFFFF;\n",
              "    }\n",
              "  </style>\n",
              "\n",
              "    <script>\n",
              "      const buttonEl =\n",
              "        document.querySelector('#df-a1d049f6-f9e3-45f2-808b-c0cadfb18f79 button.colab-df-convert');\n",
              "      buttonEl.style.display =\n",
              "        google.colab.kernel.accessAllowed ? 'block' : 'none';\n",
              "\n",
              "      async function convertToInteractive(key) {\n",
              "        const element = document.querySelector('#df-a1d049f6-f9e3-45f2-808b-c0cadfb18f79');\n",
              "        const dataTable =\n",
              "          await google.colab.kernel.invokeFunction('convertToInteractive',\n",
              "                                                    [key], {});\n",
              "        if (!dataTable) return;\n",
              "\n",
              "        const docLinkHtml = 'Like what you see? Visit the ' +\n",
              "          '<a target=\"_blank\" href=https://colab.research.google.com/notebooks/data_table.ipynb>data table notebook</a>'\n",
              "          + ' to learn more about interactive tables.';\n",
              "        element.innerHTML = '';\n",
              "        dataTable['output_type'] = 'display_data';\n",
              "        await google.colab.output.renderOutput(dataTable, element);\n",
              "        const docLink = document.createElement('div');\n",
              "        docLink.innerHTML = docLinkHtml;\n",
              "        element.appendChild(docLink);\n",
              "      }\n",
              "    </script>\n",
              "  </div>\n",
              "\n",
              "\n",
              "<div id=\"df-57a38211-011e-46bf-a724-f57434de75f1\">\n",
              "  <button class=\"colab-df-quickchart\" onclick=\"quickchart('df-57a38211-011e-46bf-a724-f57434de75f1')\"\n",
              "            title=\"Suggest charts\"\n",
              "            style=\"display:none;\">\n",
              "\n",
              "<svg xmlns=\"http://www.w3.org/2000/svg\" height=\"24px\"viewBox=\"0 0 24 24\"\n",
              "     width=\"24px\">\n",
              "    <g>\n",
              "        <path d=\"M19 3H5c-1.1 0-2 .9-2 2v14c0 1.1.9 2 2 2h14c1.1 0 2-.9 2-2V5c0-1.1-.9-2-2-2zM9 17H7v-7h2v7zm4 0h-2V7h2v10zm4 0h-2v-4h2v4z\"/>\n",
              "    </g>\n",
              "</svg>\n",
              "  </button>\n",
              "\n",
              "<style>\n",
              "  .colab-df-quickchart {\n",
              "      --bg-color: #E8F0FE;\n",
              "      --fill-color: #1967D2;\n",
              "      --hover-bg-color: #E2EBFA;\n",
              "      --hover-fill-color: #174EA6;\n",
              "      --disabled-fill-color: #AAA;\n",
              "      --disabled-bg-color: #DDD;\n",
              "  }\n",
              "\n",
              "  [theme=dark] .colab-df-quickchart {\n",
              "      --bg-color: #3B4455;\n",
              "      --fill-color: #D2E3FC;\n",
              "      --hover-bg-color: #434B5C;\n",
              "      --hover-fill-color: #FFFFFF;\n",
              "      --disabled-bg-color: #3B4455;\n",
              "      --disabled-fill-color: #666;\n",
              "  }\n",
              "\n",
              "  .colab-df-quickchart {\n",
              "    background-color: var(--bg-color);\n",
              "    border: none;\n",
              "    border-radius: 50%;\n",
              "    cursor: pointer;\n",
              "    display: none;\n",
              "    fill: var(--fill-color);\n",
              "    height: 32px;\n",
              "    padding: 0;\n",
              "    width: 32px;\n",
              "  }\n",
              "\n",
              "  .colab-df-quickchart:hover {\n",
              "    background-color: var(--hover-bg-color);\n",
              "    box-shadow: 0 1px 2px rgba(60, 64, 67, 0.3), 0 1px 3px 1px rgba(60, 64, 67, 0.15);\n",
              "    fill: var(--button-hover-fill-color);\n",
              "  }\n",
              "\n",
              "  .colab-df-quickchart-complete:disabled,\n",
              "  .colab-df-quickchart-complete:disabled:hover {\n",
              "    background-color: var(--disabled-bg-color);\n",
              "    fill: var(--disabled-fill-color);\n",
              "    box-shadow: none;\n",
              "  }\n",
              "\n",
              "  .colab-df-spinner {\n",
              "    border: 2px solid var(--fill-color);\n",
              "    border-color: transparent;\n",
              "    border-bottom-color: var(--fill-color);\n",
              "    animation:\n",
              "      spin 1s steps(1) infinite;\n",
              "  }\n",
              "\n",
              "  @keyframes spin {\n",
              "    0% {\n",
              "      border-color: transparent;\n",
              "      border-bottom-color: var(--fill-color);\n",
              "      border-left-color: var(--fill-color);\n",
              "    }\n",
              "    20% {\n",
              "      border-color: transparent;\n",
              "      border-left-color: var(--fill-color);\n",
              "      border-top-color: var(--fill-color);\n",
              "    }\n",
              "    30% {\n",
              "      border-color: transparent;\n",
              "      border-left-color: var(--fill-color);\n",
              "      border-top-color: var(--fill-color);\n",
              "      border-right-color: var(--fill-color);\n",
              "    }\n",
              "    40% {\n",
              "      border-color: transparent;\n",
              "      border-right-color: var(--fill-color);\n",
              "      border-top-color: var(--fill-color);\n",
              "    }\n",
              "    60% {\n",
              "      border-color: transparent;\n",
              "      border-right-color: var(--fill-color);\n",
              "    }\n",
              "    80% {\n",
              "      border-color: transparent;\n",
              "      border-right-color: var(--fill-color);\n",
              "      border-bottom-color: var(--fill-color);\n",
              "    }\n",
              "    90% {\n",
              "      border-color: transparent;\n",
              "      border-bottom-color: var(--fill-color);\n",
              "    }\n",
              "  }\n",
              "</style>\n",
              "\n",
              "  <script>\n",
              "    async function quickchart(key) {\n",
              "      const quickchartButtonEl =\n",
              "        document.querySelector('#' + key + ' button');\n",
              "      quickchartButtonEl.disabled = true;  // To prevent multiple clicks.\n",
              "      quickchartButtonEl.classList.add('colab-df-spinner');\n",
              "      try {\n",
              "        const charts = await google.colab.kernel.invokeFunction(\n",
              "            'suggestCharts', [key], {});\n",
              "      } catch (error) {\n",
              "        console.error('Error during call to suggestCharts:', error);\n",
              "      }\n",
              "      quickchartButtonEl.classList.remove('colab-df-spinner');\n",
              "      quickchartButtonEl.classList.add('colab-df-quickchart-complete');\n",
              "    }\n",
              "    (() => {\n",
              "      let quickchartButtonEl =\n",
              "        document.querySelector('#df-57a38211-011e-46bf-a724-f57434de75f1 button');\n",
              "      quickchartButtonEl.style.display =\n",
              "        google.colab.kernel.accessAllowed ? 'block' : 'none';\n",
              "    })();\n",
              "  </script>\n",
              "</div>\n",
              "\n",
              "    </div>\n",
              "  </div>\n"
            ],
            "application/vnd.google.colaboratory.intrinsic+json": {
              "type": "dataframe",
              "variable_name": "dataset"
            }
          },
          "metadata": {},
          "execution_count": 23
        }
      ]
    },
    {
      "cell_type": "code",
      "source": [
        "#Display the summarry of the dataset\n",
        "dataset.info()"
      ],
      "metadata": {
        "colab": {
          "base_uri": "https://localhost:8080/"
        },
        "id": "PDPtGVB7t3Rk",
        "outputId": "60655b8c-cdab-4cd8-992c-2450baf50602"
      },
      "execution_count": null,
      "outputs": [
        {
          "output_type": "stream",
          "name": "stdout",
          "text": [
            "<class 'pandas.core.frame.DataFrame'>\n",
            "RangeIndex: 15300 entries, 0 to 15299\n",
            "Data columns (total 29 columns):\n",
            " #   Column               Non-Null Count  Dtype  \n",
            "---  ------               --------------  -----  \n",
            " 0   GENDER               15300 non-null  int64  \n",
            " 1   WBC                  15300 non-null  float64\n",
            " 2   NE#                  15300 non-null  float64\n",
            " 3   LY#                  15300 non-null  float64\n",
            " 4   MO#                  15300 non-null  float64\n",
            " 5   EO#                  15300 non-null  float64\n",
            " 6   BA#                  15300 non-null  float64\n",
            " 7   RBC                  15300 non-null  float64\n",
            " 8   HGB                  15300 non-null  float64\n",
            " 9   HCT                  15300 non-null  float64\n",
            " 10  MCV                  15300 non-null  float64\n",
            " 11  MCH                  15300 non-null  float64\n",
            " 12  MCHC                 15300 non-null  float64\n",
            " 13  RDW                  15300 non-null  float64\n",
            " 14  PLT                  15300 non-null  float64\n",
            " 15  MPV                  15300 non-null  float64\n",
            " 16  PCT                  15300 non-null  float64\n",
            " 17  PDW                  15300 non-null  float64\n",
            " 18  SD                   15300 non-null  float64\n",
            " 19  SDTSD                15300 non-null  float64\n",
            " 20  TSD                  15300 non-null  float64\n",
            " 21  FERRITTE             15300 non-null  float64\n",
            " 22  FOLATE               15300 non-null  float64\n",
            " 23  B12                  15300 non-null  float64\n",
            " 24  All_Class            15300 non-null  int64  \n",
            " 25  HGB_Anemia_Class     15300 non-null  int64  \n",
            " 26  Iron_anemia_Class    15300 non-null  int64  \n",
            " 27  Folate_anemia_class  15300 non-null  int64  \n",
            " 28  B12_Anemia_class     15300 non-null  int64  \n",
            "dtypes: float64(23), int64(6)\n",
            "memory usage: 3.4 MB\n"
          ]
        }
      ]
    },
    {
      "cell_type": "code",
      "source": [
        "#Examine the dataset for null values\n",
        "dataset.isnull().sum()"
      ],
      "metadata": {
        "colab": {
          "base_uri": "https://localhost:8080/"
        },
        "id": "y6RFvdPnt92q",
        "outputId": "cce041c9-c70f-4abd-85f0-973b4230325a"
      },
      "execution_count": null,
      "outputs": [
        {
          "output_type": "execute_result",
          "data": {
            "text/plain": [
              "GENDER                 0\n",
              "WBC                    0\n",
              "NE#                    0\n",
              "LY#                    0\n",
              "MO#                    0\n",
              "EO#                    0\n",
              "BA#                    0\n",
              "RBC                    0\n",
              "HGB                    0\n",
              "HCT                    0\n",
              "MCV                    0\n",
              "MCH                    0\n",
              "MCHC                   0\n",
              "RDW                    0\n",
              "PLT                    0\n",
              "MPV                    0\n",
              "PCT                    0\n",
              "PDW                    0\n",
              "SD                     0\n",
              "SDTSD                  0\n",
              "TSD                    0\n",
              "FERRITTE               0\n",
              "FOLATE                 0\n",
              "B12                    0\n",
              "All_Class              0\n",
              "HGB_Anemia_Class       0\n",
              "Iron_anemia_Class      0\n",
              "Folate_anemia_class    0\n",
              "B12_Anemia_class       0\n",
              "dtype: int64"
            ]
          },
          "metadata": {},
          "execution_count": 25
        }
      ]
    },
    {
      "cell_type": "code",
      "source": [
        "#Removing unwanted columns\n",
        "dataset=dataset.drop(['All_Class','HGB_Anemia_Class','Folate_anemia_class', 'B12_Anemia_class'], axis=1)\n",
        "\n",
        "#view count\n",
        "for x in dataset.select_dtypes(include ='int64'):\n",
        "  print (dataset[x].value_counts(),\"\\n\")\n",
        "\n",
        "# Shuffle the data\n",
        "dataset = dataset.sample(frac=1, random_state=42)\n"
      ],
      "metadata": {
        "colab": {
          "base_uri": "https://localhost:8080/"
        },
        "id": "RgMiBQkHqp11",
        "outputId": "a8d57e77-a26c-4336-bd52-b14e000285cd"
      },
      "execution_count": null,
      "outputs": [
        {
          "output_type": "stream",
          "name": "stdout",
          "text": [
            "GENDER\n",
            "0    10379\n",
            "1     4921\n",
            "Name: count, dtype: int64 \n",
            "\n",
            "Iron_anemia_Class\n",
            "0    11118\n",
            "1     4182\n",
            "Name: count, dtype: int64 \n",
            "\n"
          ]
        }
      ]
    },
    {
      "cell_type": "code",
      "source": [
        "dataset.shape"
      ],
      "metadata": {
        "colab": {
          "base_uri": "https://localhost:8080/"
        },
        "id": "I2qnkgjgt0cC",
        "outputId": "ae4bc64a-e4cd-409d-f48c-b38b706dac3b"
      },
      "execution_count": null,
      "outputs": [
        {
          "output_type": "execute_result",
          "data": {
            "text/plain": [
              "(15300, 25)"
            ]
          },
          "metadata": {},
          "execution_count": 27
        }
      ]
    },
    {
      "cell_type": "code",
      "source": [
        "# Iron Anemia:\n",
        "ax = dataset.groupby('Iron_anemia_Class').count().plot(kind='bar', title='Distribution of data',legend=False)\n",
        "ax = ax.set_xticklabels(['0','1'], rotation=0)"
      ],
      "metadata": {
        "colab": {
          "base_uri": "https://localhost:8080/",
          "height": 472
        },
        "id": "uxDgUYTZuIIa",
        "outputId": "41f343b1-8253-4da5-fb11-652fbc10d6e7"
      },
      "execution_count": null,
      "outputs": [
        {
          "output_type": "display_data",
          "data": {
            "text/plain": [
              "<Figure size 640x480 with 1 Axes>"
            ],
            "image/png": "[encoded data removed]"
          },
          "metadata": {}
        }
      ]
    },
    {
      "cell_type": "code",
      "source": [
        "# Split data to Features: x ,Label: y\n",
        "x = dataset.drop(\"Iron_anemia_Class\", axis=1)\n",
        "y = dataset[\"Iron_anemia_Class\"]\n",
        "\n",
        "# Split data into training and testing sets (80% training, 20% testing)\n",
        "X_train, X_test, y_train, y_test = train_test_split(x, y, test_size=0.2, random_state=42)"
      ],
      "metadata": {
        "id": "MN0y-I1cxxEJ"
      },
      "execution_count": null,
      "outputs": []
    },
    {
      "cell_type": "markdown",
      "source": [
        "# **Apply SVM ML**\n"
      ],
      "metadata": {
        "id": "38-hN-rdubIW"
      }
    },
    {
      "cell_type": "code",
      "source": [
        "# Create SVM model\n",
        "svm_model = SVC()\n",
        "\n",
        "# Train the model with the best hyperparameters on the entire training set\n",
        "svm_model.fit(X_train, y_train)\n",
        "\n",
        "# Predict labels for the test set\n",
        "y_pred = svm_model.predict(X_test)\n",
        "\n",
        "# Calculate evaluation metrics\n",
        "accuracy = accuracy_score(y_test, y_pred)\n",
        "precision = precision_score(y_test, y_pred)\n",
        "recall = recall_score(y_test, y_pred)\n",
        "f1 = f1_score(y_test, y_pred)\n",
        "\n",
        "# Calculate confusion matrix\n",
        "conf_matrix = confusion_matrix(y_test, y_pred)"
      ],
      "metadata": {
        "id": "-r5zF19DvLfS"
      },
      "execution_count": null,
      "outputs": []
    },
    {
      "cell_type": "code",
      "source": [
        "print(f'accuracy: {accuracy:.2f}')\n",
        "print(f'Precision: {precision:.2f}')\n",
        "print(f'Recall: {recall:.2f}')\n",
        "print(f'F1 Score: {f1:.2f}')\n",
        "print(\"Confusion matrix:\\n\", conf_matrix)"
      ],
      "metadata": {
        "id": "8eBCpmO-vLOo",
        "colab": {
          "base_uri": "https://localhost:8080/"
        },
        "outputId": "768fa282-b18d-41d1-e559-b71fe407af81"
      },
      "execution_count": null,
      "outputs": [
        {
          "output_type": "stream",
          "name": "stdout",
          "text": [
            "accuracy: 0.83\n",
            "Precision: 0.82\n",
            "Recall: 0.48\n",
            "F1 Score: 0.61\n",
            "Confusion matrix:\n",
            " [[2129   89]\n",
            " [ 435  407]]\n"
          ]
        }
      ]
    },
    {
      "cell_type": "code",
      "source": [
        "class_names = ['0', '1']\n",
        "\n",
        "# Plot the confusion matrix\n",
        "plt.imshow(conf_matrix, interpolation='nearest', cmap=plt.cm.Blues)\n",
        "plt.title('Confusion Matrix of SVM before feature_selection')\n",
        "plt.colorbar()\n",
        "\n",
        "# Add labels\n",
        "tick_marks = np.arange(len(class_names))\n",
        "plt.xticks(tick_marks, class_names, rotation=45)\n",
        "plt.yticks(tick_marks, class_names)\n",
        "\n",
        "# Add text annotations\n",
        "for i in range(len(class_names)):\n",
        "    for j in range(len(class_names)):\n",
        "        plt.text(j, i, str(conf_matrix[i, j]), ha='center', va='center', color='white' if conf_matrix[i, j] > conf_matrix.max() / 2 else 'black')\n",
        "\n",
        "plt.xlabel('Predicted')\n",
        "plt.ylabel('True Label')\n",
        "plt.show()"
      ],
      "metadata": {
        "colab": {
          "base_uri": "https://localhost:8080/",
          "height": 474
        },
        "id": "3gUpU12x1v9i",
        "outputId": "412f8ba1-e67f-45e3-985b-78968725ce0d"
      },
      "execution_count": null,
      "outputs": [
        {
          "output_type": "display_data",
          "data": {
            "text/plain": [
              "<Figure size 640x480 with 2 Axes>"
            ],
            "image/png": "[encoded data removed]"
          },
          "metadata": {}
        }
      ]
    },
    {
      "cell_type": "markdown",
      "source": [
        "# **Feature Selection using GA**"
      ],
      "metadata": {
        "id": "QpT44ymPxNfu"
      }
    },
    {
      "cell_type": "code",
      "source": [
        "columnName=x.columns.values.tolist()"
      ],
      "metadata": {
        "id": "0L4eggjQxS-y"
      },
      "execution_count": null,
      "outputs": []
    },
    {
      "cell_type": "code",
      "source": [
        "# Define the fitness function for feature selection\n",
        "def evaluate_feature_selection(individual):\n",
        "    selected_columns = [columnName[i] for i in range(len(individual)) if individual[i] == 1]\n",
        "    X = dataset[selected_columns]\n",
        "    X_train, X_test, y_train, y_test = train_test_split(X, y, test_size=0.20)\n",
        "    model = SVC()\n",
        "    model.fit(X_train, y_train)\n",
        "    y_pred = model.predict(X_test)\n",
        "    accuracy = accuracy_score(y_test, y_pred)\n",
        "    return accuracy,\n",
        "\n",
        "# Genetic Algorithm parameters for feature selection\n",
        "population_size_fs = 10\n",
        "chromosome_length_fs = len(columnName)\n",
        "mutation_rate_fs = 0.01\n",
        "num_generations_fs = 10\n",
        "\n",
        "# Create the creator and toolbox for feature selection\n",
        "creator.create(\"FitnessMaxFS\", base.Fitness, weights=(1.0,))\n",
        "creator.create(\"IndividualFS\", list, fitness=creator.FitnessMaxFS)\n",
        "toolbox_fs = base.Toolbox()\n",
        "toolbox_fs.register(\"attr_bool\", random.randint, 0, 1)\n",
        "toolbox_fs.register(\"individual\", tools.initRepeat, creator.IndividualFS, toolbox_fs.attr_bool, n=chromosome_length_fs)\n",
        "toolbox_fs.register(\"population\", tools.initRepeat, list, toolbox_fs.individual)\n",
        "toolbox_fs.register(\"mate\", tools.cxTwoPoint)\n",
        "toolbox_fs.register(\"mutate\", tools.mutFlipBit, indpb=mutation_rate_fs)\n",
        "toolbox_fs.register(\"select\", tools.selTournament, tournsize=3)\n",
        "toolbox_fs.register(\"evaluate\", evaluate_feature_selection)\n",
        "\n",
        "# Perform feature selection Genetic Algorithm optimization\n",
        "population_fs = toolbox_fs.population(n=population_size_fs)\n",
        "for gen_fs in range(num_generations_fs):\n",
        "    offspring_fs = algorithms.varAnd(population_fs, toolbox_fs, cxpb=0.5, mutpb=0.2)\n",
        "    fits_fs = toolbox_fs.map(toolbox_fs.evaluate, offspring_fs)\n",
        "    for fit_fs, ind_fs in zip(fits_fs, offspring_fs):\n",
        "        ind_fs.fitness.values = fit_fs\n",
        "    population_fs = toolbox_fs.select(offspring_fs, k=len(population_fs))\n",
        "\n",
        "# Select the best individual from the final population of feature selection GA\n",
        "best_individual_fs = tools.selBest(population_fs, k=1)[0]\n",
        "selected_features = [columnName[i] for i in range(len(best_individual_fs)) if best_individual_fs[i] == 1]\n",
        "\n",
        "print(\"Selected Features:\", selected_features)"
      ],
      "metadata": {
        "colab": {
          "base_uri": "https://localhost:8080/"
        },
        "id": "tGW-_Z5g16Bi",
        "outputId": "0a15ac29-a67f-40b2-9a2c-7ab1e8c19959"
      },
      "execution_count": null,
      "outputs": [
        {
          "output_type": "stream",
          "name": "stderr",
          "text": [
            "/usr/local/lib/python3.10/dist-packages/deap/creator.py:185: RuntimeWarning: A class named 'FitnessMaxFS' has already been created and it will be overwritten. Consider deleting previous creation of that class or rename it.\n",
            "  warnings.warn(\"A class named '{0}' has already been created and it \"\n",
            "/usr/local/lib/python3.10/dist-packages/deap/creator.py:185: RuntimeWarning: A class named 'IndividualFS' has already been created and it will be overwritten. Consider deleting previous creation of that class or rename it.\n",
            "  warnings.warn(\"A class named '{0}' has already been created and it \"\n"
          ]
        },
        {
          "output_type": "stream",
          "name": "stdout",
          "text": [
            "Selected Features: ['WBC', 'LY#', 'HGB', 'HCT', 'MCV', 'MCH', 'MCHC', 'SD', 'TSD']\n"
          ]
        }
      ]
    },
    {
      "cell_type": "markdown",
      "source": [
        "# **Apply SVM using best features**"
      ],
      "metadata": {
        "id": "6HHuniBTxUia"
      }
    },
    {
      "cell_type": "code",
      "source": [
        "# Convert selected_features list to indices\n",
        "selected_feature_indices = [columnName.index(feature) for feature in selected_features]\n",
        "\n",
        "# Create X_train and X_test with selected features\n",
        "X_train_selected = X_train.iloc[:, selected_feature_indices]\n",
        "X_test_selected = X_test.iloc[:, selected_feature_indices]\n",
        "\n",
        "# Train SVM model using selected features\n",
        "svm_model_selected = SVC()\n",
        "svm_model_selected.fit(X_train_selected, y_train)\n",
        "\n",
        "# Evaluate the model on the test set\n",
        "accuracy_selected = svm_model_selected.score(X_test_selected, y_test)\n",
        "\n",
        "print(\"Accuracy after feature selection:\", accuracy_selected)"
      ],
      "metadata": {
        "id": "WV_mktjBxbCN",
        "colab": {
          "base_uri": "https://localhost:8080/"
        },
        "outputId": "c776415e-7c1a-4566-ffd2-5b69c5f6732e"
      },
      "execution_count": null,
      "outputs": [
        {
          "output_type": "stream",
          "name": "stdout",
          "text": [
            "Accuracy after feature selection: 0.9117647058823529\n"
          ]
        }
      ]
    },
    {
      "cell_type": "code",
      "source": [
        "y_pred_selected = svm_model_selected.predict(X_test_selected)\n",
        "\n",
        "# Calculate confusion matrix\n",
        "conf_matrix_selected = confusion_matrix(y_test, y_pred_selected)\n",
        "accuracy_selected = accuracy_score(y_test, y_pred_selected)\n",
        "precision_selected = precision_score(y_test, y_pred_selected)\n",
        "recall_selected = recall_score(y_test, y_pred_selected)\n",
        "f1_selected = f1_score(y_test, y_pred_selected)\n",
        "\n",
        "# Print the results\n",
        "print(f'Accuracy: {accuracy_selected:.2f}')\n",
        "print(f'Precision: {precision_selected:.2f}')\n",
        "print(f'Recall: {recall_selected:.2f}')\n",
        "print(f'F1-score: {f1_selected:.2f}')\n",
        "print(\"Confusion Matrix:\",conf_matrix_selected)"
      ],
      "metadata": {
        "colab": {
          "base_uri": "https://localhost:8080/"
        },
        "id": "TE0pj-qC2G-A",
        "outputId": "3d9e1d5b-80a0-4758-eaa2-dcbf531f7675"
      },
      "execution_count": null,
      "outputs": [
        {
          "output_type": "stream",
          "name": "stdout",
          "text": [
            "Accuracy: 0.91\n",
            "Precision: 0.89\n",
            "Recall: 0.78\n",
            "F1-score: 0.83\n",
            "Confusion Matrix: [[2133   85]\n",
            " [ 185  657]]\n"
          ]
        }
      ]
    },
    {
      "cell_type": "code",
      "source": [
        "class_names = ['0', '1']\n",
        "\n",
        "# Plot the confusion matrix\n",
        "plt.imshow(conf_matrix_selected, interpolation='nearest', cmap=plt.cm.Blues)\n",
        "plt.title('Confusion Matrix of SVM after Selected features')\n",
        "plt.colorbar()\n",
        "\n",
        "# Add labels\n",
        "tick_marks = np.arange(len(class_names))\n",
        "plt.xticks(tick_marks, class_names, rotation=45)\n",
        "plt.yticks(tick_marks, class_names)\n",
        "\n",
        "# Add text annotations\n",
        "for i in range(len(class_names)):\n",
        "    for j in range(len(class_names)):\n",
        "        plt.text(j, i, str(conf_matrix_selected[i, j]), ha='center', va='center', color='white' if conf_matrix_selected[i, j] > conf_matrix_selected.max() / 2 else 'black')\n",
        "\n",
        "plt.xlabel('Predicted')\n",
        "plt.ylabel('True Label')\n",
        "plt.show()"
      ],
      "metadata": {
        "colab": {
          "base_uri": "https://localhost:8080/",
          "height": 474
        },
        "id": "cUCKXI-b2MFs",
        "outputId": "5aa27834-4f00-4e07-9976-c0d7dd55f697"
      },
      "execution_count": null,
      "outputs": [
        {
          "output_type": "display_data",
          "data": {
            "text/plain": [
              "<Figure size 640x480 with 2 Axes>"
            ],
            "image/png": "[encoded data removed]"
          },
          "metadata": {}
        }
      ]
    },
    {
      "cell_type": "markdown",
      "source": [
        "# **HyperPrameters Using GA**"
      ],
      "metadata": {
        "id": "OYQ8D-f5nrxG"
      }
    },
    {
      "cell_type": "code",
      "source": [
        "# Define the fitness function for hyperparameter tuning\n",
        "def evaluate_hyperparameters(individual):\n",
        "    C_param, gamma_param = individual\n",
        "    if gamma_param < 0:\n",
        "        gamma_param = 0.0\n",
        "    model = SVC(C=C_param, gamma=gamma_param)\n",
        "    model.fit(X_train, y_train)\n",
        "    y_pred = model.predict(X_test)\n",
        "    accuracy = accuracy_score(y_test, y_pred)\n",
        "    return accuracy,\n",
        "\n",
        "# Genetic Algorithm parameters for hyperparameter tuning\n",
        "population_size_hp = 10\n",
        "num_hyperparameters = 2  # Assuming you want to optimize two hyperparameters (C and gamma)\n",
        "hyperparameter_ranges = [(0.01, 0.1, 1, 10), (1, 0.1, 0.001, 0.0001)]  # Range for C and gamma respectively\n",
        "# hyperparameter_ranges = [(0.1, 10), (0.001, 0.1)]\n",
        "mutation_rate_hp = 0.01\n",
        "num_generations_hp = 10\n",
        "\n",
        "# Create the toolbox for hyperparameter tuning\n",
        "creator.create(\"FitnessMaxHP\", base.Fitness, weights=(1.0,))\n",
        "creator.create(\"IndividualHP\", list, fitness=creator.FitnessMaxHP)\n",
        "toolbox_hp = base.Toolbox()\n",
        "toolbox_hp.register(\"attr_float_C\", random.uniform, hyperparameter_ranges[0][0], hyperparameter_ranges[0][1])\n",
        "toolbox_hp.register(\"attr_float_gamma\", random.uniform, hyperparameter_ranges[1][0], hyperparameter_ranges[1][1])\n",
        "toolbox_hp.register(\"individual\", tools.initCycle, creator.IndividualHP, (toolbox_hp.attr_float_C, toolbox_hp.attr_float_gamma), n=1)\n",
        "toolbox_hp.register(\"population\", tools.initRepeat, list, toolbox_hp.individual, n=population_size_hp)\n",
        "toolbox_hp.register(\"mate\", tools.cxTwoPoint)\n",
        "toolbox_hp.register(\"mutate\", tools.mutGaussian, mu=0, sigma=1, indpb=mutation_rate_hp)\n",
        "toolbox_hp.register(\"select\", tools.selTournament, tournsize=3)\n",
        "toolbox_hp.register(\"evaluate\", evaluate_hyperparameters)\n",
        "\n",
        "# Perform hyperparameter tuning using Genetic Algorithm\n",
        "population_hp = toolbox_hp.population()\n",
        "for gen_hp in range(num_generations_hp):\n",
        "    offspring_hp = algorithms.varAnd(population_hp, toolbox_hp, cxpb=0.5, mutpb=0.2)\n",
        "    fits_hp = toolbox_hp.map(toolbox_hp.evaluate, offspring_hp)\n",
        "    for fit_hp, ind_hp in zip(fits_hp, offspring_hp):\n",
        "        ind_hp.fitness.values = fit_hp\n",
        "    population_hp = toolbox_hp.select(offspring_hp, k=len(population_hp))\n",
        "\n",
        "# Select the best individual from the final population of hyperparameter tuning\n",
        "best_individual_hp = tools.selBest(population_hp, k=1)[0]\n",
        "best_hyperparameters = (best_individual_hp[0], best_individual_hp[1])\n",
        "\n",
        "print(\"Best Hyperparameters (C, gamma):\",best_hyperparameters)"
      ],
      "metadata": {
        "colab": {
          "base_uri": "https://localhost:8080/"
        },
        "id": "y1JlCX9La7QW",
        "outputId": "bdaca7a5-8c1a-48d6-c46d-e5c3835c81a2"
      },
      "execution_count": null,
      "outputs": [
        {
          "output_type": "stream",
          "name": "stdout",
          "text": [
            "Best Hyperparameters (C, gamma): (0.03139987122356984, 0.6738233783135306)\n"
          ]
        }
      ]
    },
    {
      "cell_type": "code",
      "source": [
        "# # Define the hyperparameter space for SVM\n",
        "# hyperparameter_space = {\n",
        "#     'C': np.logspace(-3, 3, 7),  # Regularization parameter\n",
        "#     'kernel': ['linear', 'poly', 'rbf', 'sigmoid'],  # Kernel function\n",
        "#     'gamma': ['scale', 'auto'],  # Kernel coefficient (for 'rbf', 'poly', and 'sigmoid' kernels)\n",
        "# }\n",
        "\n",
        "# # Define the fitness function\n",
        "# def evaluate_svm(individual):\n",
        "#     svm_params = {\n",
        "#         'C': individual[0],\n",
        "#         'kernel': individual[1],\n",
        "#     }\n",
        "#     if svm_params['kernel'] in ['rbf', 'poly', 'sigmoid']:\n",
        "#         svm_params['gamma'] = individual[2]\n",
        "\n",
        "#     svm_model = SVC(**svm_params)\n",
        "\n",
        "#     # Evaluate the model using cross-validation\n",
        "#     cv_scores = cross_val_score(svm_model, X_train, y_train, cv=5, scoring='accuracy')\n",
        "#     mean_cv_score = np.mean(cv_scores)\n",
        "\n",
        "#     return mean_cv_score,\n",
        "\n",
        "# # Genetic Algorithm parameters\n",
        "# population_size = 10\n",
        "# num_generations = 10\n",
        "# mutation_prob = 0.2\n",
        "# crossover_prob = 0.8\n",
        "\n",
        "# # Create the creator\n",
        "# creator.create(\"FitnessMax\", base.Fitness, weights=(1.0,))\n",
        "# creator.create(\"Individual\", list, fitness=creator.FitnessMax)\n",
        "\n",
        "# # Create the toolbox\n",
        "# toolbox = base.Toolbox()\n",
        "# toolbox.register(\"attr_float\", np.random.choice, hyperparameter_space['C'])\n",
        "# toolbox.register(\"attr_kernel\", np.random.choice, hyperparameter_space['kernel'])\n",
        "# toolbox.register(\"attr_gamma\", np.random.choice, hyperparameter_space['gamma'])\n",
        "# toolbox.register(\"individual\", tools.initCycle, creator.Individual,\n",
        "#                  (toolbox.attr_float, toolbox.attr_kernel, toolbox.attr_gamma), n=1)\n",
        "# toolbox.register(\"population\", tools.initRepeat, list, toolbox.individual)\n",
        "\n",
        "# # Register genetic operators\n",
        "# toolbox.register(\"mate\", tools.cxTwoPoint)\n",
        "# toolbox.register(\"mutate\", tools.mutUniformInt, low=0, up=len(hyperparameter_space)-1, indpb=0.1)\n",
        "# toolbox.register(\"select\", tools.selTournament, tournsize=3)\n",
        "# toolbox.register(\"evaluate\", evaluate_svm)\n",
        "\n",
        "# # Create initial population\n",
        "# population = toolbox.population(n=population_size)\n",
        "\n",
        "# # Perform the Genetic Algorithm optimization\n",
        "# for gen in range(num_generations):\n",
        "#     offspring = algorithms.varAnd(population, toolbox, cxpb=crossover_prob, mutpb=mutation_prob)\n",
        "#     fits = toolbox.map(toolbox.evaluate, offspring)\n",
        "#     for fit, ind in zip(fits, offspring):\n",
        "#         ind.fitness.values = fit\n",
        "#     population = toolbox.select(offspring, k=len(population))\n",
        "\n",
        "# # Select the best individual from the final population\n",
        "# best_individual = tools.selBest(population, k=1)[0]\n",
        "# best_params = {\n",
        "#     'C': hyperparameter_space['C'][best_individual[0]],\n",
        "#     'kernel': hyperparameter_space['kernel'][best_individual[1]],\n",
        "# }\n",
        "# if best_params['kernel'] in ['rbf', 'poly', 'sigmoid']:\n",
        "#     best_params['gamma'] = hyperparameter_space['gamma'][best_individual[2]]\n",
        "\n",
        "# print(\"Best SVM hyperparameters:\", best_params)"
      ],
      "metadata": {
        "id": "8nIrXfRLq6Ih"
      },
      "execution_count": null,
      "outputs": []
    },
    {
      "cell_type": "markdown",
      "source": [
        "# **Apply SVM with best parameters**\n"
      ],
      "metadata": {
        "id": "zkuRKaHuklrN"
      }
    },
    {
      "cell_type": "code",
      "source": [
        "# Convert best_hyperparameters tuple to a dictionary\n",
        "best_hyperparameters_dict = {'C': best_hyperparameters[0], 'gamma': best_hyperparameters[1]}\n",
        "\n",
        "# Create SVM model with best hyperparameters\n",
        "best_svm_model = SVC(**best_hyperparameters_dict)\n",
        "\n",
        "# Train the model with the best hyperparameters on the entire training set\n",
        "best_svm_model.fit(X_train, y_train)\n",
        "\n",
        "# Predict labels for the test set\n",
        "y_pred = best_svm_model.predict(X_test)\n",
        "\n",
        "# Calculate evaluation metrics\n",
        "accuracy = accuracy_score(y_test, y_pred)\n",
        "precision = precision_score(y_test, y_pred)\n",
        "recall = recall_score(y_test, y_pred)\n",
        "f1 = f1_score(y_test, y_pred)\n",
        "\n",
        "# Calculate confusion matrix\n",
        "conf_matrix = confusion_matrix(y_test, y_pred)"
      ],
      "metadata": {
        "id": "kWhYoJkavkvc",
        "colab": {
          "base_uri": "https://localhost:8080/"
        },
        "outputId": "b3275ce5-be41-47ca-c8d7-5383eee4070b"
      },
      "execution_count": null,
      "outputs": [
        {
          "output_type": "stream",
          "name": "stderr",
          "text": [
            "/usr/local/lib/python3.10/dist-packages/sklearn/metrics/_classification.py:1509: UndefinedMetricWarning: Precision is ill-defined and being set to 0.0 due to no predicted samples. Use `zero_division` parameter to control this behavior.\n",
            "  _warn_prf(average, modifier, f\"{metric.capitalize()} is\", len(result))\n"
          ]
        }
      ]
    },
    {
      "cell_type": "code",
      "source": [
        "print(f'accuracy: {accuracy:.2f}')\n",
        "print(f'Precision: {precision:.2f}')\n",
        "print(f'Recall: {recall:.2f}')\n",
        "print(f'F1 Score: {f1:.2f}')\n",
        "print(\"Confusion matrix:\\n\", conf_matrix)"
      ],
      "metadata": {
        "id": "EHbiHYU7zfWm",
        "colab": {
          "base_uri": "https://localhost:8080/"
        },
        "outputId": "1b15a514-462f-4de3-a659-22e7a4c2804b"
      },
      "execution_count": null,
      "outputs": [
        {
          "output_type": "stream",
          "name": "stdout",
          "text": [
            "accuracy: 0.72\n",
            "Precision: 0.00\n",
            "Recall: 0.00\n",
            "F1 Score: 0.00\n",
            "Confusion matrix:\n",
            " [[2218    0]\n",
            " [ 842    0]]\n"
          ]
        }
      ]
    },
    {
      "cell_type": "code",
      "source": [
        "class_names = ['0', '1']\n",
        "\n",
        "# Plot the confusion matrix\n",
        "plt.imshow(conf_matrix, interpolation='nearest', cmap=plt.cm.Blues)\n",
        "plt.title('Confusion Matrix of SVM before feature_selection')\n",
        "plt.colorbar()\n",
        "\n",
        "# Add labels\n",
        "tick_marks = np.arange(len(class_names))\n",
        "plt.xticks(tick_marks, class_names, rotation=45)\n",
        "plt.yticks(tick_marks, class_names)\n",
        "\n",
        "# Add text annotations\n",
        "for i in range(len(class_names)):\n",
        "    for j in range(len(class_names)):\n",
        "        plt.text(j, i, str(conf_matrix[i, j]), ha='center', va='center', color='white' if conf_matrix[i, j] > conf_matrix.max() / 2 else 'black')\n",
        "\n",
        "plt.xlabel('Predicted')\n",
        "plt.ylabel('True Label')\n",
        "plt.show()"
      ],
      "metadata": {
        "id": "gm1B6cAGXvB5",
        "colab": {
          "base_uri": "https://localhost:8080/",
          "height": 474
        },
        "outputId": "c49ce763-0a0c-4367-b051-a6ee6e555dfa"
      },
      "execution_count": null,
      "outputs": [
        {
          "output_type": "display_data",
          "data": {
            "text/plain": [
              "<Figure size 640x480 with 2 Axes>"
            ],
            "image/png": "[encoded data removed]"
          },
          "metadata": {}
        }
      ]
    },
    {
      "cell_type": "markdown",
      "source": [
        "# **Feature Selection using GA and best paramaters**"
      ],
      "metadata": {
        "id": "r1kwL14UwCXv"
      }
    },
    {
      "cell_type": "code",
      "source": [
        "columnName=x.columns.values.tolist()"
      ],
      "metadata": {
        "id": "mNORLnjs1m_O"
      },
      "execution_count": null,
      "outputs": []
    },
    {
      "cell_type": "code",
      "source": [
        "# Define the fitness function for feature selection\n",
        "def evaluate_feature_selection(individual):\n",
        "    selected_columns = [columnName[i] for i in range(len(individual)) if individual[i] == 1]\n",
        "    X = dataset[selected_columns]\n",
        "    X_train, X_test, y_train, y_test = train_test_split(X, y, test_size=0.20)\n",
        "    model = SVC(**best_hyperparameters_dict)\n",
        "    model.fit(X_train, y_train)\n",
        "    y_pred = model.predict(X_test)\n",
        "    accuracy = accuracy_score(y_test, y_pred)\n",
        "    return accuracy,\n",
        "\n",
        "# Genetic Algorithm parameters for feature selection\n",
        "population_size_fs = 10\n",
        "chromosome_length_fs = len(columnName)\n",
        "mutation_rate_fs = 0.01\n",
        "num_generations_fs = 10\n",
        "\n",
        "# Create the creator and toolbox for feature selection\n",
        "creator.create(\"FitnessMaxFS\", base.Fitness, weights=(1.0,))\n",
        "creator.create(\"IndividualFS\", list, fitness=creator.FitnessMaxFS)\n",
        "toolbox_fs = base.Toolbox()\n",
        "toolbox_fs.register(\"attr_bool\", random.randint, 0, 1)\n",
        "toolbox_fs.register(\"individual\", tools.initRepeat, creator.IndividualFS, toolbox_fs.attr_bool, n=chromosome_length_fs)\n",
        "toolbox_fs.register(\"population\", tools.initRepeat, list, toolbox_fs.individual)\n",
        "toolbox_fs.register(\"mate\", tools.cxTwoPoint)\n",
        "toolbox_fs.register(\"mutate\", tools.mutFlipBit, indpb=mutation_rate_fs)\n",
        "toolbox_fs.register(\"select\", tools.selTournament, tournsize=3)\n",
        "toolbox_fs.register(\"evaluate\", evaluate_feature_selection)\n",
        "\n",
        "# Perform feature selection Genetic Algorithm optimization\n",
        "population_fs = toolbox_fs.population(n=population_size_fs)\n",
        "for gen_fs in range(num_generations_fs):\n",
        "    offspring_fs = algorithms.varAnd(population_fs, toolbox_fs, cxpb=0.5, mutpb=0.2)\n",
        "    fits_fs = toolbox_fs.map(toolbox_fs.evaluate, offspring_fs)\n",
        "    for fit_fs, ind_fs in zip(fits_fs, offspring_fs):\n",
        "        ind_fs.fitness.values = fit_fs\n",
        "    population_fs = toolbox_fs.select(offspring_fs, k=len(population_fs))\n",
        "\n",
        "# Select the best individual from the final population of feature selection GA\n",
        "best_individual_fs = tools.selBest(population_fs, k=1)[0]\n",
        "selected_features = [columnName[i] for i in range(len(best_individual_fs)) if best_individual_fs[i] == 1]\n",
        "\n",
        "print(\"Selected Features:\", selected_features)"
      ],
      "metadata": {
        "id": "kgLZBjt_wLhj",
        "colab": {
          "base_uri": "https://localhost:8080/"
        },
        "outputId": "b14ccb2d-cd55-4113-dd04-2f6965c9bbcf"
      },
      "execution_count": null,
      "outputs": [
        {
          "output_type": "stream",
          "name": "stdout",
          "text": [
            "Selected Features: ['GENDER', 'NE#', 'MO#', 'RBC', 'MCV', 'MCHC', 'MPV', 'PDW', 'SD', 'SDTSD', 'FERRITTE']\n"
          ]
        }
      ]
    },
    {
      "cell_type": "markdown",
      "source": [
        "# **Apply SVM with best parameters and features**"
      ],
      "metadata": {
        "id": "fXBYRcUCwM0i"
      }
    },
    {
      "cell_type": "code",
      "source": [
        "# Convert selected_features list to indices\n",
        "selected_feature_indices = [columnName.index(feature) for feature in selected_features]\n",
        "\n",
        "# Create X_train and X_test with selected features\n",
        "X_train_selected = X_train.iloc[:, selected_feature_indices]\n",
        "X_test_selected = X_test.iloc[:, selected_feature_indices]\n",
        "\n",
        "# Train SVM model using selected features\n",
        "svm_model_selected = SVC()\n",
        "svm_model_selected.fit(X_train_selected, y_train)\n",
        "\n",
        "# Evaluate the model on the test set\n",
        "accuracy_selected = svm_model_selected.score(X_test_selected, y_test)\n",
        "\n",
        "print(\"Accuracy after feature selection:\", accuracy_selected)"
      ],
      "metadata": {
        "id": "85qHs56pwzFj",
        "colab": {
          "base_uri": "https://localhost:8080/"
        },
        "outputId": "ffcf63c9-8698-4e9f-94f3-fec7b2bb1e99"
      },
      "execution_count": null,
      "outputs": [
        {
          "output_type": "stream",
          "name": "stdout",
          "text": [
            "Accuracy after feature selection: 0.8111111111111111\n"
          ]
        }
      ]
    },
    {
      "cell_type": "code",
      "source": [
        "y_pred_selected = svm_model_selected.predict(X_test_selected)\n",
        "\n",
        "# Calculate confusion matrix\n",
        "conf_matrix_selected = confusion_matrix(y_test, y_pred_selected)\n",
        "accuracy_selected = accuracy_score(y_test, y_pred_selected)\n",
        "precision_selected = precision_score(y_test, y_pred_selected)\n",
        "recall_selected = recall_score(y_test, y_pred_selected)\n",
        "f1_selected = f1_score(y_test, y_pred_selected)\n",
        "\n",
        "# Print the results\n",
        "print(f'Accuracy: {accuracy_selected:.2f}')\n",
        "print(f'Precision: {precision_selected:.2f}')\n",
        "print(f'Recall: {recall_selected:.2f}')\n",
        "print(f'F1-score: {f1_selected:.2f}')\n",
        "print(\"Confusion Matrix:\",conf_matrix_selected)"
      ],
      "metadata": {
        "id": "rRGUwPuaUyXi",
        "colab": {
          "base_uri": "https://localhost:8080/"
        },
        "outputId": "d8fd542e-7717-4e8e-8c1d-98372e6b2140"
      },
      "execution_count": null,
      "outputs": [
        {
          "output_type": "stream",
          "name": "stdout",
          "text": [
            "Accuracy: 0.81\n",
            "Precision: 0.75\n",
            "Recall: 0.47\n",
            "F1-score: 0.58\n",
            "Confusion Matrix: [[2088  130]\n",
            " [ 448  394]]\n"
          ]
        }
      ]
    },
    {
      "cell_type": "code",
      "source": [
        "class_names = ['0', '1']\n",
        "\n",
        "# Plot the confusion matrix\n",
        "plt.imshow(conf_matrix_selected, interpolation='nearest', cmap=plt.cm.Blues)\n",
        "plt.title('Confusion Matrix of SVM after Selected features')\n",
        "plt.colorbar()\n",
        "\n",
        "# Add labels\n",
        "tick_marks = np.arange(len(class_names))\n",
        "plt.xticks(tick_marks, class_names, rotation=45)\n",
        "plt.yticks(tick_marks, class_names)\n",
        "\n",
        "# Add text annotations\n",
        "for i in range(len(class_names)):\n",
        "    for j in range(len(class_names)):\n",
        "        plt.text(j, i, str(conf_matrix_selected[i, j]), ha='center', va='center', color='white' if conf_matrix_selected[i, j] > conf_matrix_selected.max() / 2 else 'black')\n",
        "\n",
        "plt.xlabel('Predicted')\n",
        "plt.ylabel('True Label')\n",
        "plt.show()"
      ],
      "metadata": {
        "id": "K8j2RQyTXPqt",
        "colab": {
          "base_uri": "https://localhost:8080/",
          "height": 474
        },
        "outputId": "8fa24fab-dcb7-4d94-aa5e-237f4bc7bd98"
      },
      "execution_count": null,
      "outputs": [
        {
          "output_type": "display_data",
          "data": {
            "text/plain": [
              "<Figure size 640x480 with 2 Axes>"
            ],
            "image/png": "[encoded data removed]"
          },
          "metadata": {}
        }
      ]
    }
  ]
}